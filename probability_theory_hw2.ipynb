{
  "nbformat": 4,
  "nbformat_minor": 0,
  "metadata": {
    "colab": {
      "name": "probability_theory_hw2.ipynb",
      "provenance": [],
      "collapsed_sections": [
        "dq6-t0qHtrH8",
        "bWWcqdUbgB6w",
        "e-TXwxsXlskE",
        "78Kd0prHt_Eg",
        "KUq8V2kUwvJ8",
        "e-r7YexLw03H",
        "2zgO31RBw0r6",
        "R0ZUzhfKw0aW"
      ],
      "authorship_tag": "ABX9TyO2p98zByo9wfvVYDLbzAbE",
      "include_colab_link": true
    },
    "kernelspec": {
      "name": "python3",
      "display_name": "Python 3"
    },
    "language_info": {
      "name": "python"
    }
  },
  "cells": [
    {
      "cell_type": "markdown",
      "metadata": {
        "id": "view-in-github",
        "colab_type": "text"
      },
      "source": [
        "<a href=\"https://colab.research.google.com/github/iliruslanili/prob_theory/blob/hw2/probability_theory_hw2.ipynb\" target=\"_parent\"><img src=\"https://colab.research.google.com/assets/colab-badge.svg\" alt=\"Open In Colab\"/></a>"
      ]
    },
    {
      "cell_type": "markdown",
      "source": [
        ""
      ],
      "metadata": {
        "id": "c2OC3qNUYPmF"
      }
    },
    {
      "cell_type": "markdown",
      "source": [
        "# Функции формул"
      ],
      "metadata": {
        "id": "dq6-t0qHtrH8"
      }
    },
    {
      "cell_type": "code",
      "source": [
        "# Импортируем все нужное\n",
        "import math\n",
        "from math import factorial\n",
        "import numpy as np\n",
        "import matplotlib.pyplot as plt"
      ],
      "metadata": {
        "id": "3YTcOKsyYfi1"
      },
      "execution_count": null,
      "outputs": []
    },
    {
      "cell_type": "markdown",
      "source": [
        "Реализация функции сочетаний $C_{n}^{k}=\\frac{n!}{k!(n-k)}$"
      ],
      "metadata": {
        "id": "mbMV2T4Kb_V_"
      }
    },
    {
      "cell_type": "code",
      "execution_count": null,
      "metadata": {
        "id": "kfuzux7cRywt"
      },
      "outputs": [],
      "source": [
        "def comb(n: int, k: int):\n",
        "  \"\"\"\n",
        "  Parameters\n",
        "  ----------\n",
        "  n: int \n",
        "      Общее количество объектов\n",
        "  k: int \n",
        "      Количество объектов в выборке\n",
        "  return: int\n",
        "      Количество сочетаний из n объектов по k единиц\n",
        "  \"\"\"\n",
        "  return factorial(n)/(factorial(k)*factorial(n-k))"
      ]
    },
    {
      "cell_type": "markdown",
      "source": [
        "Реализация функции Бернулли $P_{n}^{k}=C_{n}^{k}p^{k}q^{n-k}$"
      ],
      "metadata": {
        "id": "WjQ6uEUfcDAl"
      }
    },
    {
      "cell_type": "code",
      "source": [
        "def bernoulli(n: int, k: int, p:float):\n",
        "  \"\"\"\n",
        "  Parameters\n",
        "  ----------\n",
        "  n: int \n",
        "      Общее количество объектов\n",
        "  k: int \n",
        "      Количество необходимых событий\n",
        "  return: int\n",
        "      Вероятность появления события определённое количество\n",
        "  \"\"\"\n",
        "  return comb(n, k) * p**k * (1 - p)**(n-k)"
      ],
      "metadata": {
        "id": "s-z8sPSHZs6V"
      },
      "execution_count": null,
      "outputs": []
    },
    {
      "cell_type": "markdown",
      "source": [
        "Реализация формулы Пуассона: $P_{m}=\\frac{\\lambda^{m}}{m!}e^{-\\lambda}$"
      ],
      "metadata": {
        "id": "AyN1h30YouN6"
      }
    },
    {
      "cell_type": "code",
      "source": [
        "def poisson(n: int, m: int, p: int):\n",
        "  _lambda = n * p\n",
        "  return (_lambda**m / factorial(m)) * math.e**-_lambda"
      ],
      "metadata": {
        "id": "qV2O-Z10npj_"
      },
      "execution_count": null,
      "outputs": []
    },
    {
      "cell_type": "markdown",
      "source": [
        "#1. Вероятность того, что стрелок попадет в мишень, выстрелив один раз, равна 0.8. Стрелок выстрелил 100 раз. Найдите вероятность того, что стрелок попадет в цель ровно 85 раз."
      ],
      "metadata": {
        "id": "bWWcqdUbgB6w"
      }
    },
    {
      "cell_type": "markdown",
      "source": [
        "Рассчитаем по формуле Бернулли.\n",
        "n = 100\n",
        "k = 85\n",
        "p = 0.8"
      ],
      "metadata": {
        "id": "6Ms5cq2XgMdf"
      }
    },
    {
      "cell_type": "code",
      "source": [
        "p = bernoulli(n=100, k=85, p=0.8)\n",
        "print(f'Вероятность: {p}')"
      ],
      "metadata": {
        "colab": {
          "base_uri": "https://localhost:8080/"
        },
        "id": "oYK0mZmYgEof",
        "outputId": "0b0471d3-e295-4de2-a44c-78beb62a3516"
      },
      "execution_count": null,
      "outputs": [
        {
          "output_type": "stream",
          "name": "stdout",
          "text": [
            "Вероятность: 0.048061793700746355\n"
          ]
        }
      ]
    },
    {
      "cell_type": "markdown",
      "source": [
        "#2. Вероятность того, что лампочка перегорит в течение первого дня эксплуатации, равна 0.0004. В жилом комплексе после ремонта в один день включили 5000 новых лампочек."
      ],
      "metadata": {
        "id": "fGz9rWPelSvM"
      }
    },
    {
      "cell_type": "markdown",
      "source": [
        "Количество испытаний большое (5000), а вероятности малые (0.0004), поэтому пользуемся формулой Пуассона: $P_{m}=\\frac{\\lambda^{m}}{m!}e^{-\\lambda}$"
      ],
      "metadata": {
        "id": "2LJPZrBnuGJm"
      }
    },
    {
      "cell_type": "markdown",
      "source": [
        "##А. Какова вероятность, что ни одна из них не перегорит в первый день?"
      ],
      "metadata": {
        "id": "e-TXwxsXlskE"
      }
    },
    {
      "cell_type": "code",
      "source": [
        "n = 5000\n",
        "m = 0\n",
        "p = 0.0004\n",
        "prob = poisson(n=n, m=m, p=p)\n",
        "print(f'Вероятность: {prob}')"
      ],
      "metadata": {
        "colab": {
          "base_uri": "https://localhost:8080/"
        },
        "id": "_EG1MMBfiJQa",
        "outputId": "6d4a4668-915a-4425-b859-0b889106a6d6"
      },
      "execution_count": null,
      "outputs": [
        {
          "output_type": "stream",
          "name": "stdout",
          "text": [
            "Вероятность: 0.1353352832366127\n"
          ]
        }
      ]
    },
    {
      "cell_type": "markdown",
      "source": [
        "##Б. Какова вероятность, что перегорят ровно две?"
      ],
      "metadata": {
        "id": "B0O7kddYlyBl"
      }
    },
    {
      "cell_type": "code",
      "source": [
        "n = 5000\n",
        "m = 2\n",
        "p = 0.0004\n",
        "prob = poisson(n=n, m=m, p=p)\n",
        "print(f'Вероятность: {prob}')"
      ],
      "metadata": {
        "colab": {
          "base_uri": "https://localhost:8080/"
        },
        "id": "ErQbUI_mmR16",
        "outputId": "8c62f44b-df74-411d-e520-b11f8335c888"
      },
      "execution_count": null,
      "outputs": [
        {
          "output_type": "stream",
          "name": "stdout",
          "text": [
            "Вероятность: 0.2706705664732254\n"
          ]
        }
      ]
    },
    {
      "cell_type": "markdown",
      "source": [
        "Эксперимент с другими значениями"
      ],
      "metadata": {
        "id": "VLV_Wxs_p7-U"
      }
    },
    {
      "cell_type": "code",
      "source": [
        "n = 5000\n",
        "p = 0.0004\n",
        "x = [i for i in range(0, 10)]\n",
        "y = [poisson(n, m, p) for m in x]\n",
        "fig, ax = plt.subplots()\n",
        "ax.plot(x, y)\n",
        "ax.grid()\n",
        "plt.show()"
      ],
      "metadata": {
        "id": "Nh6QRx2HqE_e",
        "colab": {
          "base_uri": "https://localhost:8080/",
          "height": 265
        },
        "outputId": "b49f307f-056d-4d8a-9d0f-b0a9da9aaca7"
      },
      "execution_count": 57,
      "outputs": [
        {
          "output_type": "display_data",
          "data": {
            "image/png": "[encoded data removed]",
            "text/plain": [
              "<Figure size 432x288 with 1 Axes>"
            ]
          },
          "metadata": {
            "needs_background": "light"
          }
        }
      ]
    },
    {
      "cell_type": "code",
      "source": [
        "s = np.random.poisson(2, 5000)\n",
        "count, bins, ignored = plt.hist(s, 14, density=True)"
      ],
      "metadata": {
        "colab": {
          "base_uri": "https://localhost:8080/",
          "height": 268
        },
        "id": "UDsHx5pmq-Bq",
        "outputId": "c49ffc46-6158-4047-802f-1dfbea1559d7"
      },
      "execution_count": 43,
      "outputs": [
        {
          "output_type": "display_data",
          "data": {
            "image/png": "[encoded data removed]",
            "text/plain": [
              "<Figure size 432x288 with 1 Axes>"
            ]
          },
          "metadata": {
            "needs_background": "light"
          }
        }
      ]
    },
    {
      "cell_type": "markdown",
      "source": [
        "#3. Монету подбросили 144 раза. Какова вероятность, что орел выпадет ровно 70 раз?"
      ],
      "metadata": {
        "id": "78Kd0prHt_Eg"
      }
    },
    {
      "cell_type": "markdown",
      "source": [
        "Количество испытаний малое(144), вероятность выпадения достаточно высокая(0.5) поэтому работаем с формулой Бернулли: $P_{n}^{k}=C_{n}^{k}p^{k}q^{n-k}$"
      ],
      "metadata": {
        "id": "XxaZa4f9uD3E"
      }
    },
    {
      "cell_type": "code",
      "source": [
        "n = 144\n",
        "k = 70\n",
        "p = 0.5\n",
        "prob = bernoulli(n=n, k=k, p=p)\n",
        "print(f'Вероятность: {prob}')"
      ],
      "metadata": {
        "colab": {
          "base_uri": "https://localhost:8080/"
        },
        "id": "M8raU9wguBnn",
        "outputId": "fbceb108-eee1-489d-9554-5b8059a682c4"
      },
      "execution_count": 44,
      "outputs": [
        {
          "output_type": "stream",
          "name": "stdout",
          "text": [
            "Вероятность: 0.06281178035144776\n"
          ]
        }
      ]
    },
    {
      "cell_type": "markdown",
      "source": [
        "#4. В первом ящике находится 10 мячей, из которых 7 - белые. Во втором ящике - 11 мячей, из которых 9 белых. Из каждого ящика вытаскивают случайным образом по два мяча."
      ],
      "metadata": {
        "id": "KUq8V2kUwvJ8"
      }
    },
    {
      "cell_type": "markdown",
      "source": [
        "##А. Какова вероятность того, что все мячи белые?"
      ],
      "metadata": {
        "id": "e-r7YexLw03H"
      }
    },
    {
      "cell_type": "code",
      "source": [
        "# Вероятность вытянуть белые из 1 ящика\n",
        "p1 = comb(7, 2)/comb(10, 2)\n",
        "# Вероятность вытянуть белые из 2 ящика\n",
        "p2 = comb(9, 2)/comb(11, 2)\n",
        "# Вероятность вытянуть белые из обоих ящиков\n",
        "p = p1 * p2\n",
        "print(f'Вероятность: {p}')"
      ],
      "metadata": {
        "colab": {
          "base_uri": "https://localhost:8080/"
        },
        "id": "cdDl3C4bxRMY",
        "outputId": "505d4a9c-aa9d-4291-a31e-b2f76e92174d"
      },
      "execution_count": 47,
      "outputs": [
        {
          "output_type": "stream",
          "name": "stdout",
          "text": [
            "Вероятность: 0.3054545454545455\n"
          ]
        }
      ]
    },
    {
      "cell_type": "markdown",
      "source": [
        "##Б. Какова вероятность того, что ровно два мяча белые?"
      ],
      "metadata": {
        "id": "2zgO31RBw0r6"
      }
    },
    {
      "cell_type": "code",
      "source": [
        "# 1 ящик - 2 белых, 2 ящик - 2 черных\n",
        "p1 = comb(7, 2)/comb(10, 2) * comb(2, 2)/comb(11, 2)\n",
        "print(p1)"
      ],
      "metadata": {
        "colab": {
          "base_uri": "https://localhost:8080/"
        },
        "id": "M62GjlZSxSYz",
        "outputId": "f071751b-07e7-45a9-fcd4-279c0144d3cb"
      },
      "execution_count": 51,
      "outputs": [
        {
          "output_type": "stream",
          "name": "stdout",
          "text": [
            "0.008484848484848486\n"
          ]
        }
      ]
    },
    {
      "cell_type": "code",
      "source": [
        "# 1 ящик - 2 черных, 2 ящик - 2 белых\n",
        "p2 = comb(3, 2)/comb(10, 2) * comb(9, 2)/comb(11, 2)\n",
        "print(p2)"
      ],
      "metadata": {
        "colab": {
          "base_uri": "https://localhost:8080/"
        },
        "id": "oiNhuSKX83MU",
        "outputId": "95b11a92-f2d5-4e53-bd11-bbea7631759c"
      },
      "execution_count": 53,
      "outputs": [
        {
          "output_type": "stream",
          "name": "stdout",
          "text": [
            "0.04363636363636363\n"
          ]
        }
      ]
    },
    {
      "cell_type": "code",
      "source": [
        "# 1 ящик - 1 белый + 1 черный, 2 ящик - 1 белый + 1 черный\n",
        "p3 = comb(3, 1)*comb(7, 1)/comb(10, 2) * comb(9, 1)*comb(2, 1)/comb(11, 2)\n",
        "print(p3)"
      ],
      "metadata": {
        "colab": {
          "base_uri": "https://localhost:8080/"
        },
        "id": "CngIEsDY9THY",
        "outputId": "c6b7e6fe-2a4d-4c3e-e66b-b65280244099"
      },
      "execution_count": 54,
      "outputs": [
        {
          "output_type": "stream",
          "name": "stdout",
          "text": [
            "0.15272727272727274\n"
          ]
        }
      ]
    },
    {
      "cell_type": "code",
      "source": [
        "print(f'Общая вероятность: {p1+p2+p3}')"
      ],
      "metadata": {
        "colab": {
          "base_uri": "https://localhost:8080/"
        },
        "id": "pxHab4-L_MdG",
        "outputId": "b96e2285-7991-4cf6-cd23-1a2efeb984b7"
      },
      "execution_count": 55,
      "outputs": [
        {
          "output_type": "stream",
          "name": "stdout",
          "text": [
            "Общая вероятность: 0.20484848484848486\n"
          ]
        }
      ]
    },
    {
      "cell_type": "markdown",
      "source": [
        "##В. Какова вероятность того, что хотя бы один мяч белый?"
      ],
      "metadata": {
        "id": "R0ZUzhfKw0aW"
      }
    },
    {
      "cell_type": "code",
      "source": [
        "# Пойдем от обратного и посчитаем вероятность вытянуть не белые\n",
        "# Первый ящик\n",
        "p1 = comb(3, 2) / comb(10, 2)\n",
        "# Второй\n",
        "p2 = comb(2, 2) / comb(11, 2)\n",
        "# Перемножаем и инвертируем\n",
        "p = 1 - (p1 * p2)\n",
        "print(f'Вероятность: {p}')"
      ],
      "metadata": {
        "colab": {
          "base_uri": "https://localhost:8080/"
        },
        "id": "S-Fa6ZMXxRiU",
        "outputId": "0e3c81d0-b34b-467c-938b-6d3b16513de0"
      },
      "execution_count": 48,
      "outputs": [
        {
          "output_type": "stream",
          "name": "stdout",
          "text": [
            "Вероятность: 0.9987878787878788\n"
          ]
        }
      ]
    }
  ]
}