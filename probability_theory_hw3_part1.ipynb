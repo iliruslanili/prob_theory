{
  "nbformat": 4,
  "nbformat_minor": 0,
  "metadata": {
    "colab": {
      "name": "probability_theory_hw3_part1.ipynb",
      "provenance": [],
      "collapsed_sections": [],
      "authorship_tag": "ABX9TyOnpGJfjWzTaXcD6oLHG5/x",
      "include_colab_link": true
    },
    "kernelspec": {
      "name": "python3",
      "display_name": "Python 3"
    },
    "language_info": {
      "name": "python"
    }
  },
  "cells": [
    {
      "cell_type": "markdown",
      "metadata": {
        "id": "view-in-github",
        "colab_type": "text"
      },
      "source": [
        "<a href=\"https://colab.research.google.com/github/iliruslanili/prob_theory/blob/hw3/probability_theory_hw3_part1.ipynb\" target=\"_parent\"><img src=\"https://colab.research.google.com/assets/colab-badge.svg\" alt=\"Open In Colab\"/></a>"
      ]
    },
    {
      "cell_type": "code",
      "source": [
        "import math"
      ],
      "metadata": {
        "id": "RWQN3wq5MA_c"
      },
      "execution_count": 23,
      "outputs": []
    },
    {
      "cell_type": "markdown",
      "source": [
        "#1. Даны значения зарплат из выборки выпускников: 100, 80, 75, 77, 89, 33, 45, 25, 65, 17, 30, 24, 57, 55, 70, 75, 65, 84, 90, 150. Посчитать (желательно без использования статистических методов наподобие std, var, mean) среднее арифметическое, среднее квадратичное отклонение, смещенную и несмещенную оценки дисперсий для данной выборки."
      ],
      "metadata": {
        "id": "IfKOjX0PCMb6"
      }
    },
    {
      "cell_type": "code",
      "source": [
        "def mean(ds: list):\n",
        "  return sum(ds)/len(ds)"
      ],
      "metadata": {
        "id": "jHboyCAPCo_0"
      },
      "execution_count": 1,
      "outputs": []
    },
    {
      "cell_type": "code",
      "source": [
        "def median(ds):\n",
        "  n = len(ds)\n",
        "  ds = sorted(ds)\n",
        "  return ds[n//2] if n % 2 != 0 else (ds[n//2-1] + ds[n//2]) / 2"
      ],
      "metadata": {
        "id": "xkb8NXIAFi07"
      },
      "execution_count": 69,
      "outputs": []
    },
    {
      "cell_type": "code",
      "source": [
        "def var(ds, ddof=0):\n",
        "  m = mean(ds)\n",
        "  n = len(ds)\n",
        "  return sum((x - m) ** 2 for x in ds) / (n - ddof) "
      ],
      "metadata": {
        "id": "IC0LUEIoU3C8"
      },
      "execution_count": 51,
      "outputs": []
    },
    {
      "cell_type": "code",
      "source": [
        "def stdev(ds):\n",
        "  m = mean(ds)\n",
        "  n = len(ds)\n",
        "  return math.sqrt(sum((x - m) ** 2 for x in ds ) / n)"
      ],
      "metadata": {
        "id": "CZGQ_396C3kV"
      },
      "execution_count": 52,
      "outputs": []
    },
    {
      "cell_type": "code",
      "execution_count": 54,
      "metadata": {
        "colab": {
          "base_uri": "https://localhost:8080/"
        },
        "id": "xeBoyNRqCCmf",
        "outputId": "258cabeb-e1db-4604-e383-e29c7df1313f"
      },
      "outputs": [
        {
          "output_type": "stream",
          "name": "stdout",
          "text": [
            "Сортированный: [17, 24, 25, 30, 33, 45, 55, 57, 65, 65, 70, 75, 75, 77, 80, 84, 89, 90, 100, 150]\n",
            "Среднее (мат. ожидание): 65.3\n",
            "Медиана: 67.5\n",
            "Стандартное(среднеквадратичное) отклонение: 30.823854398825596\n",
            "Дисперсия (смещенная): 950.11\n",
            "Дисперсия (несмещенная): 1000.1157894736842\n"
          ]
        }
      ],
      "source": [
        "ds = [100, 80, 75, 77, 89, 33, 45, 25, 65, 17, 30, 24, 57, 55, 70, 75, 65, 84, 90, 150]\n",
        "m = mean(ds)\n",
        "med = median(ds)\n",
        "std = stdev(ds)\n",
        "variance = var(ds, ddof=1)\n",
        "shifted_variance = var(ds, ddof=0)\n",
        "\n",
        "print(f'Сортированный: {sorted(ds)}')\n",
        "print(f'Среднее (мат. ожидание): {m}')\n",
        "print(f'Медиана: {med}')\n",
        "print(f'Стандартное(среднеквадратичное) отклонение: {std}')\n",
        "print(f'Дисперсия (смещенная): {shifted_variance}')\n",
        "print(f'Дисперсия (несмещенная): {variance}')"
      ]
    },
    {
      "cell_type": "markdown",
      "source": [
        "# Дополнительное баловство с помощью seaborn)"
      ],
      "metadata": {
        "id": "wV81nOd8aonT"
      }
    },
    {
      "cell_type": "code",
      "source": [
        "import seaborn as sns\n",
        "import matplotlib.pyplot as plt"
      ],
      "metadata": {
        "id": "Wr0-V1qGPG6L"
      },
      "execution_count": 61,
      "outputs": []
    },
    {
      "cell_type": "code",
      "source": [
        "sns.boxplot(x=ds)"
      ],
      "metadata": {
        "colab": {
          "base_uri": "https://localhost:8080/",
          "height": 282
        },
        "id": "40XiLRz7PJ4W",
        "outputId": "24d53886-745e-418e-d784-826e5e0c9b7e"
      },
      "execution_count": 64,
      "outputs": [
        {
          "output_type": "execute_result",
          "data": {
            "text/plain": [
              "<matplotlib.axes._subplots.AxesSubplot at 0x7fc786cdeed0>"
            ]
          },
          "metadata": {},
          "execution_count": 64
        },
        {
          "output_type": "display_data",
          "data": {
            "image/png": "[encoded data removed]",
            "text/plain": [
              "<Figure size 432x288 with 1 Axes>"
            ]
          },
          "metadata": {
            "needs_background": "light"
          }
        }
      ]
    },
    {
      "cell_type": "code",
      "source": [
        "sns.displot(x=ds, kde=True)"
      ],
      "metadata": {
        "colab": {
          "base_uri": "https://localhost:8080/",
          "height": 386
        },
        "id": "cLxuLAVIZUca",
        "outputId": "7f6065d5-fdec-4750-c88c-27b1e8e74095"
      },
      "execution_count": 70,
      "outputs": [
        {
          "output_type": "execute_result",
          "data": {
            "text/plain": [
              "<seaborn.axisgrid.FacetGrid at 0x7fc76dd6b810>"
            ]
          },
          "metadata": {},
          "execution_count": 70
        },
        {
          "output_type": "display_data",
          "data": {
            "image/png": "[encoded data removed]",
            "text/plain": [
              "<Figure size 360x360 with 1 Axes>"
            ]
          },
          "metadata": {
            "needs_background": "light"
          }
        }
      ]
    },
    {
      "cell_type": "code",
      "source": [
        "sns.kdeplot(ds)\n",
        "sns.rugplot(ds)"
      ],
      "metadata": {
        "colab": {
          "base_uri": "https://localhost:8080/",
          "height": 282
        },
        "id": "aio3RQwkaLWM",
        "outputId": "e45eb696-534d-4ec6-ba7f-0f9597b5de87"
      },
      "execution_count": 73,
      "outputs": [
        {
          "output_type": "execute_result",
          "data": {
            "text/plain": [
              "<matplotlib.axes._subplots.AxesSubplot at 0x7fc76bb26cd0>"
            ]
          },
          "metadata": {},
          "execution_count": 73
        },
        {
          "output_type": "display_data",
          "data": {
            "image/png": "[encoded data removed]",
            "text/plain": [
              "<Figure size 432x288 with 1 Axes>"
            ]
          },
          "metadata": {
            "needs_background": "light"
          }
        }
      ]
    }
  ]
}