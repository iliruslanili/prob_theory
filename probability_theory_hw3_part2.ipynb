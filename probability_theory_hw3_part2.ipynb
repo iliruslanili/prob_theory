{
  "nbformat": 4,
  "nbformat_minor": 0,
  "metadata": {
    "colab": {
      "name": "probability_theory_hw3_part2.ipynb",
      "provenance": [],
      "collapsed_sections": [
        "JczvujRGiv4z",
        "3ZRpVT70idWM",
        "uPfLwIwnt9HP",
        "99Pu_MIOxDbE",
        "GEEndVDbzX0v"
      ],
      "authorship_tag": "ABX9TyNAAUPdNEXryUrCseqUbxn/",
      "include_colab_link": true
    },
    "kernelspec": {
      "name": "python3",
      "display_name": "Python 3"
    },
    "language_info": {
      "name": "python"
    }
  },
  "cells": [
    {
      "cell_type": "markdown",
      "metadata": {
        "id": "view-in-github",
        "colab_type": "text"
      },
      "source": [
        "<a href=\"https://colab.research.google.com/github/iliruslanili/prob_theory/blob/hw3/probability_theory_hw3_part2.ipynb\" target=\"_parent\"><img src=\"https://colab.research.google.com/assets/colab-badge.svg\" alt=\"Open In Colab\"/></a>"
      ]
    },
    {
      "cell_type": "markdown",
      "source": [
        "#Функции формул"
      ],
      "metadata": {
        "id": "JczvujRGiv4z"
      }
    },
    {
      "cell_type": "code",
      "source": [
        "# Импортируем все нужное\n",
        "import math\n",
        "from math import factorial\n",
        "import numpy as np\n",
        "import matplotlib.pyplot as plt"
      ],
      "metadata": {
        "id": "5jCC8pFXiq1n"
      },
      "execution_count": 1,
      "outputs": []
    },
    {
      "cell_type": "markdown",
      "source": [
        "Реализация функции сочетаний $C_{n}^{k}=\\frac{n!}{k!(n-k)}$"
      ],
      "metadata": {
        "id": "GSCAJ3KRi02E"
      }
    },
    {
      "cell_type": "code",
      "source": [
        "def comb(n: int, k: int):\n",
        "  \"\"\"\n",
        "  Parameters\n",
        "  ----------\n",
        "  n: int \n",
        "      Общее количество объектов\n",
        "  k: int \n",
        "      Количество объектов в выборке\n",
        "  return: int\n",
        "      Количество сочетаний из n объектов по k единиц\n",
        "  \"\"\"\n",
        "  return factorial(n)/(factorial(k)*factorial(n-k))"
      ],
      "metadata": {
        "id": "N3EDGf58iz6U"
      },
      "execution_count": 2,
      "outputs": []
    },
    {
      "cell_type": "markdown",
      "source": [
        "Теорема Байеса: $P(B|A)=\\frac{P(B)*P(A|B)}{P(A)}$"
      ],
      "metadata": {
        "id": "txSEHqljsvxK"
      }
    },
    {
      "cell_type": "code",
      "source": [
        "def bayes(p_b, p_ab, p_a):\n",
        "  return (p_b * p_ab) / p_a"
      ],
      "metadata": {
        "id": "CD6k40okta1d"
      },
      "execution_count": 8,
      "outputs": []
    },
    {
      "cell_type": "markdown",
      "source": [
        "#1. В первом ящике находится 8 мячей, из которых 5 - белые. Во втором ящике - 12 мячей, из которых 5 белых. Из первого ящика вытаскивают случайным образом два мяча, из второго - 4. Какова вероятность того, что 3 мяча белые?"
      ],
      "metadata": {
        "id": "3ZRpVT70idWM"
      }
    },
    {
      "cell_type": "markdown",
      "source": [
        "a) 1 ящик - 2 белых\n",
        "<br>2 ящик - 1 белый, 3 черных"
      ],
      "metadata": {
        "id": "qJ6yKcHalWOn"
      }
    },
    {
      "cell_type": "code",
      "execution_count": 3,
      "metadata": {
        "colab": {
          "base_uri": "https://localhost:8080/"
        },
        "id": "knNn3-kZiNZa",
        "outputId": "bb0f010a-639d-412c-d3b8-9c7021536735"
      },
      "outputs": [
        {
          "output_type": "stream",
          "name": "stdout",
          "text": [
            "0.12626262626262627\n"
          ]
        }
      ],
      "source": [
        "prob1 = (comb(3, 0) * comb(5, 2)) / comb(8, 2) * (comb(5, 1) * comb(7, 3)) / comb(12, 4)\n",
        "print(prob1)"
      ]
    },
    {
      "cell_type": "markdown",
      "source": [
        "b) 1 ящик - 1 белый, 1 черный\n",
        "<br>2 ящик - 2 белых, 2 черных"
      ],
      "metadata": {
        "id": "ZqeJWG9nrKuI"
      }
    },
    {
      "cell_type": "code",
      "source": [
        "prob2 = (comb(3, 1) * comb(5, 1)) / comb(8, 2) * (comb(5, 2) * comb(7, 2)) / comb(12, 4)\n",
        "print(prob2)"
      ],
      "metadata": {
        "colab": {
          "base_uri": "https://localhost:8080/"
        },
        "id": "VKy5uXvNrRjn",
        "outputId": "4f12f594-3984-42b8-adc7-3de050cc5c9e"
      },
      "execution_count": 4,
      "outputs": [
        {
          "output_type": "stream",
          "name": "stdout",
          "text": [
            "0.22727272727272727\n"
          ]
        }
      ]
    },
    {
      "cell_type": "markdown",
      "source": [
        "1 ящик - 0 белых, 2 черных\n",
        "<br>2 ящик - 3 белых, 1 черный"
      ],
      "metadata": {
        "id": "PS9ZIcPpraSE"
      }
    },
    {
      "cell_type": "code",
      "source": [
        "prob3 = (comb(3, 2) * comb(5, 0)) / comb(8, 2) * (comb(5, 3) * comb(7, 1)) / comb(12, 4)\n",
        "print(prob3)"
      ],
      "metadata": {
        "colab": {
          "base_uri": "https://localhost:8080/"
        },
        "id": "5keAKoxXrlKs",
        "outputId": "190f5b70-2092-41f4-bbcd-2678b8b69dab"
      },
      "execution_count": 6,
      "outputs": [
        {
          "output_type": "stream",
          "name": "stdout",
          "text": [
            "0.015151515151515152\n"
          ]
        }
      ]
    },
    {
      "cell_type": "markdown",
      "source": [
        "Суммарная вероятность"
      ],
      "metadata": {
        "id": "bXzx13IIr1Y2"
      }
    },
    {
      "cell_type": "code",
      "source": [
        "prob = prob1 + prob2 + prob3\n",
        "print(prob)"
      ],
      "metadata": {
        "colab": {
          "base_uri": "https://localhost:8080/"
        },
        "id": "-5hLHAGVr7Ri",
        "outputId": "543a1be8-cd29-4762-8519-5c28b5fdcf76"
      },
      "execution_count": 7,
      "outputs": [
        {
          "output_type": "stream",
          "name": "stdout",
          "text": [
            "0.3686868686868687\n"
          ]
        }
      ]
    },
    {
      "cell_type": "markdown",
      "source": [
        "#2. На соревновании по биатлону один из трех спортсменов стреляет и попадает в мишень. Вероятность попадания для первого спортсмена равна 0.9, для второго — 0.8, для третьего — 0.6. Найти вероятность того, что выстрел произведен:"
      ],
      "metadata": {
        "id": "uPfLwIwnt9HP"
      }
    },
    {
      "cell_type": "code",
      "source": [
        "p_b = 1/3\n",
        "p_ab1 = 0.9\n",
        "p_ab2 = 0.8\n",
        "p_ab3 = 0.6\n",
        "# Вероятность попадания хотя бы одним спортсменом:\n",
        "p_a = p_b * p_ab1 + p_b * p_ab2 + p_b * p_ab3\n",
        "print(p_a)"
      ],
      "metadata": {
        "colab": {
          "base_uri": "https://localhost:8080/"
        },
        "id": "eXGlnn2ovJz5",
        "outputId": "fa975eaf-6adc-4fe3-c989-0a8769459df5"
      },
      "execution_count": 15,
      "outputs": [
        {
          "output_type": "stream",
          "name": "stdout",
          "text": [
            "0.7666666666666666\n"
          ]
        }
      ]
    },
    {
      "cell_type": "markdown",
      "source": [
        "##a). первым спортсменом"
      ],
      "metadata": {
        "id": "9UV5U18juFfE"
      }
    },
    {
      "cell_type": "code",
      "source": [
        "prob1 = bayes(p_b, p_ab1, p_a)\n",
        "print(prob1)"
      ],
      "metadata": {
        "colab": {
          "base_uri": "https://localhost:8080/"
        },
        "id": "IgaTabf5wWsN",
        "outputId": "9217add6-c2a4-4fe1-ae43-629040124fb3"
      },
      "execution_count": 16,
      "outputs": [
        {
          "output_type": "stream",
          "name": "stdout",
          "text": [
            "0.391304347826087\n"
          ]
        }
      ]
    },
    {
      "cell_type": "markdown",
      "source": [
        "##б). вторым спортсменом"
      ],
      "metadata": {
        "id": "Wzjw7kBxuJPK"
      }
    },
    {
      "cell_type": "code",
      "source": [
        "prob2 = bayes(p_b, p_ab2, p_a)\n",
        "print(prob2)"
      ],
      "metadata": {
        "colab": {
          "base_uri": "https://localhost:8080/"
        },
        "id": "DHrwqUyHwU7z",
        "outputId": "f7ee327a-a815-43b8-c375-66f30814e2fd"
      },
      "execution_count": 17,
      "outputs": [
        {
          "output_type": "stream",
          "name": "stdout",
          "text": [
            "0.3478260869565218\n"
          ]
        }
      ]
    },
    {
      "cell_type": "markdown",
      "source": [
        "##в). третьим спортсменом"
      ],
      "metadata": {
        "id": "mUeH4Ue4uLIe"
      }
    },
    {
      "cell_type": "code",
      "source": [
        "prob3 = bayes(p_b, p_ab3, p_a)\n",
        "print(prob3)"
      ],
      "metadata": {
        "colab": {
          "base_uri": "https://localhost:8080/"
        },
        "id": "pFVirPmjwWRP",
        "outputId": "baec61d4-bbf1-4efc-ace4-0afce8d5c8b1"
      },
      "execution_count": 18,
      "outputs": [
        {
          "output_type": "stream",
          "name": "stdout",
          "text": [
            "0.2608695652173913\n"
          ]
        }
      ]
    },
    {
      "cell_type": "markdown",
      "source": [
        "#3. В университет на факультеты A и B поступило равное количество студентов, а на факультет C студентов поступило столько же, сколько на A и B вместе. Вероятность того, что студент факультета A сдаст первую сессию, равна 0.8. Для студента факультета B эта вероятность равна 0.7, а для студента факультета C - 0.9. Студент сдал первую сессию. Какова вероятность, что он учится: "
      ],
      "metadata": {
        "id": "99Pu_MIOxDbE"
      }
    },
    {
      "cell_type": "code",
      "source": [
        "p_abA = 0.8\n",
        "p_abB = 0.7\n",
        "p_abC = 0.9\n",
        "\n",
        "# Факультет A или B. 4 потому что факультет С по емкости как факультеты А и В \n",
        "# вместе взятые, а общая сумма будет 4\n",
        "p_bAB = 1 / 4 \n",
        "print(f\"С факультета A или B: {p_bAB}\")\n",
        "p_bC = 1 / 2\n",
        "print(f\"С факультета C: {p_bC}\")\n",
        "\n",
        "# Вероятность, что сдал хотя бы один студент из любого факультета\n",
        "p_a = p_bAB * p_abA + p_bAB * p_abB + p_bC * p_abC\n",
        "print(f'Хотя бы один: {p_a}')"
      ],
      "metadata": {
        "colab": {
          "base_uri": "https://localhost:8080/"
        },
        "id": "zlC7AB4V09z8",
        "outputId": "79d8c0a6-8c48-407e-ab03-31d7dcb681cb"
      },
      "execution_count": 24,
      "outputs": [
        {
          "output_type": "stream",
          "name": "stdout",
          "text": [
            "С факультета A или B: 0.25\n",
            "С факультета C: 0.5\n",
            "Хотя бы один: 0.825\n"
          ]
        }
      ]
    },
    {
      "cell_type": "markdown",
      "source": [
        "## a). на факультете A"
      ],
      "metadata": {
        "id": "GDrfSeFBxH41"
      }
    },
    {
      "cell_type": "code",
      "source": [
        "probA = bayes(p_bAB, p_abA, p_a)\n",
        "print(probA)"
      ],
      "metadata": {
        "colab": {
          "base_uri": "https://localhost:8080/"
        },
        "id": "Dv0pYnAhxR6o",
        "outputId": "9e85a1f7-77f0-4b88-8510-fc87eace832c"
      },
      "execution_count": 25,
      "outputs": [
        {
          "output_type": "stream",
          "name": "stdout",
          "text": [
            "0.24242424242424246\n"
          ]
        }
      ]
    },
    {
      "cell_type": "markdown",
      "source": [
        "## б). на факультете B "
      ],
      "metadata": {
        "id": "o4b1IDupxLYr"
      }
    },
    {
      "cell_type": "code",
      "source": [
        "probA = bayes(p_bAB, p_abB, p_a)\n",
        "print(probA)"
      ],
      "metadata": {
        "colab": {
          "base_uri": "https://localhost:8080/"
        },
        "id": "5m7igsh8xSg0",
        "outputId": "02e0b182-e195-4ec2-88a2-5a38dd2c225e"
      },
      "execution_count": 26,
      "outputs": [
        {
          "output_type": "stream",
          "name": "stdout",
          "text": [
            "0.21212121212121213\n"
          ]
        }
      ]
    },
    {
      "cell_type": "markdown",
      "source": [
        "##в). на факультете C"
      ],
      "metadata": {
        "id": "r5dDyyHhxMwf"
      }
    },
    {
      "cell_type": "code",
      "source": [
        "probA = bayes(p_bC, p_abC, p_a)\n",
        "print(probA)"
      ],
      "metadata": {
        "colab": {
          "base_uri": "https://localhost:8080/"
        },
        "id": "y-gLj-_FxTX7",
        "outputId": "8871f524-e474-47da-f765-7a97e3198751"
      },
      "execution_count": 27,
      "outputs": [
        {
          "output_type": "stream",
          "name": "stdout",
          "text": [
            "0.5454545454545455\n"
          ]
        }
      ]
    },
    {
      "cell_type": "markdown",
      "source": [
        "#4. Устройство состоит из трех деталей. Для первой детали вероятность выйти из строя в первый месяц равна 0.1, для второй - 0.2, для третьей - 0.25. Какова вероятность того, что в первый месяц выйдут из строя:"
      ],
      "metadata": {
        "id": "GEEndVDbzX0v"
      }
    },
    {
      "cell_type": "code",
      "source": [
        "p1 = 0.1\n",
        "p2 = 0.2\n",
        "p3 = 0.25"
      ],
      "metadata": {
        "id": "qVOVr_iK43xa"
      },
      "execution_count": 38,
      "outputs": []
    },
    {
      "cell_type": "markdown",
      "source": [
        "##а) все детали"
      ],
      "metadata": {
        "id": "o-cq8gTtzeOv"
      }
    },
    {
      "cell_type": "code",
      "source": [
        "# Просто перемножаем всё)\n",
        "print(p1 * p2 * p3)"
      ],
      "metadata": {
        "colab": {
          "base_uri": "https://localhost:8080/"
        },
        "id": "-W_0EfAQzt8h",
        "outputId": "82651b5a-a75b-47e5-eed2-fe6be0143566"
      },
      "execution_count": 39,
      "outputs": [
        {
          "output_type": "stream",
          "name": "stdout",
          "text": [
            "0.005000000000000001\n"
          ]
        }
      ]
    },
    {
      "cell_type": "markdown",
      "source": [
        "##б) только две детали"
      ],
      "metadata": {
        "id": "je9NQTiZzh73"
      }
    },
    {
      "cell_type": "code",
      "source": [
        "print(((1-p1) * p2 * p3) + (p1 * (1 - p2) * p3) + (p1 * p2 * (1 - p3)))"
      ],
      "metadata": {
        "colab": {
          "base_uri": "https://localhost:8080/"
        },
        "id": "4b27bJ-rzuUM",
        "outputId": "9173fe05-b267-47fd-8010-80a918353659"
      },
      "execution_count": 40,
      "outputs": [
        {
          "output_type": "stream",
          "name": "stdout",
          "text": [
            "0.08\n"
          ]
        }
      ]
    },
    {
      "cell_type": "markdown",
      "source": [
        "##в) хотя бы одна деталь"
      ],
      "metadata": {
        "id": "H6DTjVBozlSc"
      }
    },
    {
      "cell_type": "code",
      "source": [
        "print(1 - (1 - p1) * (1 - p2) * (1 - p3))"
      ],
      "metadata": {
        "colab": {
          "base_uri": "https://localhost:8080/"
        },
        "id": "-ih4RkUczuuj",
        "outputId": "5d01a89e-e26f-4d8e-cd5d-928c9a10a650"
      },
      "execution_count": 41,
      "outputs": [
        {
          "output_type": "stream",
          "name": "stdout",
          "text": [
            "0.45999999999999996\n"
          ]
        }
      ]
    },
    {
      "cell_type": "markdown",
      "source": [
        "##г) от одной до двух деталей"
      ],
      "metadata": {
        "id": "gliUtuyIzlMl"
      }
    },
    {
      "cell_type": "code",
      "source": [
        "print(1 - (1 - p1) * (1 - p2) * (1 - p3) - p1 * p2 * p3)"
      ],
      "metadata": {
        "colab": {
          "base_uri": "https://localhost:8080/"
        },
        "id": "fPcLo-qO7Xw-",
        "outputId": "3e950467-610f-4d62-8e3f-27ed709151f4"
      },
      "execution_count": 42,
      "outputs": [
        {
          "output_type": "stream",
          "name": "stdout",
          "text": [
            "0.45499999999999996\n"
          ]
        }
      ]
    }
  ]
}