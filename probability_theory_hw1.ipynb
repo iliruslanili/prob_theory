{
  "nbformat": 4,
  "nbformat_minor": 0,
  "metadata": {
    "colab": {
      "name": "probability_theory_hw1.ipynb",
      "provenance": [],
      "collapsed_sections": [
        "sezDse9VeTP0",
        "U7c54Lp3qVaA"
      ],
      "authorship_tag": "ABX9TyPgsvmR/FXLZ1044mTOwzbZ",
      "include_colab_link": true
    },
    "kernelspec": {
      "name": "python3",
      "display_name": "Python 3"
    },
    "language_info": {
      "name": "python"
    }
  },
  "cells": [
    {
      "cell_type": "markdown",
      "metadata": {
        "id": "view-in-github",
        "colab_type": "text"
      },
      "source": [
        "<a href=\"https://colab.research.google.com/github/iliruslanili/prob_theory/blob/hw1/probability_theory_hw1.ipynb\" target=\"_parent\"><img src=\"https://colab.research.google.com/assets/colab-badge.svg\" alt=\"Open In Colab\"/></a>"
      ]
    },
    {
      "cell_type": "code",
      "source": [
        "import math\n",
        "from itertools import combinations"
      ],
      "metadata": {
        "id": "Rfpt4yc8Huk-"
      },
      "execution_count": 18,
      "outputs": []
    },
    {
      "cell_type": "code",
      "source": [
        "def comb(n: int, k: int):\n",
        "  \"\"\"\n",
        "  Parameters\n",
        "  ----------\n",
        "  n: int \n",
        "      Общее количество объектов\n",
        "  k: int \n",
        "      Количество объектов в выборке\n",
        "  return: int\n",
        "      Количество сочетаний из n объектов по k штук\n",
        "  \"\"\"\n",
        "  return len(list(combinations(range(n), k)))"
      ],
      "metadata": {
        "id": "Co29FFclS7km"
      },
      "execution_count": 51,
      "outputs": []
    },
    {
      "cell_type": "markdown",
      "source": [
        "#1. Из колоды в 52 карты извлекаются случайным образом 4 карты\n",
        "\n"
      ],
      "metadata": {
        "id": "xDK9dJImGnRj"
      }
    },
    {
      "cell_type": "markdown",
      "source": [
        "##A) Найти вероятность того, что все карты – крести\n",
        "Всего карт - 52. Из них карт крести (благоприятных исходов) - 52/4 = 13\n",
        "Если берем нужную нам карту, то общее число благоприятных исходов и карт уменьшается. Значит за каждую итерацию убавляем.\n",
        "$P=\\frac{13}{52}*\\frac{12}{51}*\\frac{11}{50}*\\frac{10}{49}=0.0026$"
      ],
      "metadata": {
        "id": "or2XTR34afPQ"
      }
    },
    {
      "cell_type": "code",
      "source": [
        "cards = 52 # общее количество карт\n",
        "samples = 4 # сколько карт вытаскиваем\n",
        "cases = cards // samples # количество благоприятных исходов\n",
        "prob = 1\n",
        "# обратный порядок для работы enumerate\n",
        "for case, card in enumerate(range(cards-samples+1, cards+1), cases-samples+1): \n",
        "    prob *= case/card\n",
        "    print(f'{case}/{card}')\n",
        "print(f'Вероятность: {prob}')"
      ],
      "metadata": {
        "colab": {
          "base_uri": "https://localhost:8080/"
        },
        "id": "CvKu42qaFlvH",
        "outputId": "cc0d3efb-53f7-4c83-8241-54ab7e18910c"
      },
      "execution_count": 40,
      "outputs": [
        {
          "output_type": "stream",
          "name": "stdout",
          "text": [
            "10/49\n",
            "11/50\n",
            "12/51\n",
            "13/52\n",
            "Вероятность: 0.0026410564225690276\n"
          ]
        }
      ]
    },
    {
      "cell_type": "markdown",
      "source": [
        "##Б) Найти вероятность, что среди 4-х карт окажется хотя бы один туз\n"
      ],
      "metadata": {
        "id": "H-CpUE5SO54T"
      }
    },
    {
      "cell_type": "markdown",
      "source": [
        "Попробуем решить от обратного, исключив тузы. Сначала посчитаем общее количество комбинаций"
      ],
      "metadata": {
        "id": "Ny4hpM2mSKtT"
      }
    },
    {
      "cell_type": "code",
      "source": [
        "c = comb(52, 4)\n",
        "print(f'Total combinations: {c}')"
      ],
      "metadata": {
        "colab": {
          "base_uri": "https://localhost:8080/"
        },
        "id": "Vpxa3RkgZZ6T",
        "outputId": "684861ba-d377-4100-f868-24e804475cb7"
      },
      "execution_count": 41,
      "outputs": [
        {
          "output_type": "stream",
          "name": "stdout",
          "text": [
            "Total combinations: 270725\n"
          ]
        }
      ]
    },
    {
      "cell_type": "markdown",
      "source": [
        "Найдем общее число сочетаний 4 карт из 52-4 (исключаем все тузы)"
      ],
      "metadata": {
        "id": "uSjUTglOZk9J"
      }
    },
    {
      "cell_type": "code",
      "source": [
        "c0 = comb(48, 4)\n",
        "print(f'Total combinations with no ace: {c0}')"
      ],
      "metadata": {
        "colab": {
          "base_uri": "https://localhost:8080/"
        },
        "id": "VdjZnZ0IR0cG",
        "outputId": "1ecec0fc-fc4a-49f5-fe98-d136e5f3b403"
      },
      "execution_count": 42,
      "outputs": [
        {
          "output_type": "stream",
          "name": "stdout",
          "text": [
            "Total combinations with no ace: 194580\n"
          ]
        }
      ]
    },
    {
      "cell_type": "markdown",
      "source": [
        "Число сочетаний только с тузами"
      ],
      "metadata": {
        "id": "mhKgjsjAaJXj"
      }
    },
    {
      "cell_type": "code",
      "source": [
        "c1234 = c - c0\n",
        "print(f'Total combinations with only ace: {c1234}')"
      ],
      "metadata": {
        "colab": {
          "base_uri": "https://localhost:8080/"
        },
        "id": "HC2dagmZUlii",
        "outputId": "9fd60089-d0df-49fb-e460-d71566badeb0"
      },
      "execution_count": 43,
      "outputs": [
        {
          "output_type": "stream",
          "name": "stdout",
          "text": [
            "Total combinations with only ace: 76145\n"
          ]
        }
      ]
    },
    {
      "cell_type": "markdown",
      "source": [
        "А теперь вероятность получить хотя бы один туз"
      ],
      "metadata": {
        "id": "ajqMEsh1bZRq"
      }
    },
    {
      "cell_type": "code",
      "source": [
        "prob = c1234 / c\n",
        "print(f'Probability: {prob}')"
      ],
      "metadata": {
        "colab": {
          "base_uri": "https://localhost:8080/"
        },
        "id": "Gcm9OFABbJjM",
        "outputId": "0d731d45-109a-4f9c-b868-094b3a8ce949"
      },
      "execution_count": 44,
      "outputs": [
        {
          "output_type": "stream",
          "name": "stdout",
          "text": [
            "Probability: 0.2812632745405855\n"
          ]
        }
      ]
    },
    {
      "cell_type": "markdown",
      "source": [
        "#2. На входной двери подъезда установлен кодовый замок, содержащий десять кнопок с цифрами от 0 до 9. Код содержит три цифры, которые нужно нажать одновременно. Какова вероятность того, что человек, не знающий код, откроет дверь с первой попытки?"
      ],
      "metadata": {
        "id": "T2UjokjGc58U"
      }
    },
    {
      "cell_type": "markdown",
      "source": [
        "Посчитаем общее количество возможных сочетаний"
      ],
      "metadata": {
        "id": "ca_hZ22ydCbC"
      }
    },
    {
      "cell_type": "code",
      "source": [
        "c = comb(10, 3)\n",
        "print(f'Total combinations: {c}')"
      ],
      "metadata": {
        "colab": {
          "base_uri": "https://localhost:8080/"
        },
        "id": "KPKLaKBmc_GK",
        "outputId": "7aba94e7-a4a8-4154-98e5-17a5d9887104"
      },
      "execution_count": 45,
      "outputs": [
        {
          "output_type": "stream",
          "name": "stdout",
          "text": [
            "Total combinations: 120\n"
          ]
        }
      ]
    },
    {
      "cell_type": "markdown",
      "source": [
        "А теперь посчитаем вероятность угадывания кода. Правильный код всего один, значит просто поделим количество благоприятных событий (подходящих кодов) на общее количество сочетаний"
      ],
      "metadata": {
        "id": "hGVRIWs7d5Y8"
      }
    },
    {
      "cell_type": "code",
      "source": [
        "print(f'Probability: {1 / c}')"
      ],
      "metadata": {
        "colab": {
          "base_uri": "https://localhost:8080/"
        },
        "id": "uGR1zvrneJcA",
        "outputId": "58983831-d813-4d16-b92a-22f25874cfba"
      },
      "execution_count": 46,
      "outputs": [
        {
          "output_type": "stream",
          "name": "stdout",
          "text": [
            "Probability: 0.008333333333333333\n"
          ]
        }
      ]
    },
    {
      "cell_type": "markdown",
      "source": [
        "#3. В ящике имеется 15 деталей, из которых 9 окрашены. Рабочий случайным образом извлекает 3 детали. Какова вероятность того, что все извлеченные детали окрашены?\n"
      ],
      "metadata": {
        "id": "sezDse9VeTP0"
      }
    },
    {
      "cell_type": "markdown",
      "source": [
        "Сначала посчитаем количество сочетаний 3 окрашеных деталей из 9 (благоприятные исходы)"
      ],
      "metadata": {
        "id": "O3ezvSssqtNE"
      }
    },
    {
      "cell_type": "code",
      "source": [
        "c1 = comb(9, 3)\n",
        "print(f'Combinations of colored detail: {c1}')"
      ],
      "metadata": {
        "colab": {
          "base_uri": "https://localhost:8080/"
        },
        "id": "1BybXkrPj1qj",
        "outputId": "ca1e1a34-751f-4fb1-a318-814df3a2fac9"
      },
      "execution_count": 49,
      "outputs": [
        {
          "output_type": "stream",
          "name": "stdout",
          "text": [
            "Combinations of colored detail: 84\n"
          ]
        }
      ]
    },
    {
      "cell_type": "markdown",
      "source": [
        "Теперь посчитаем общее количество исходов"
      ],
      "metadata": {
        "id": "blP1TJ67occ0"
      }
    },
    {
      "cell_type": "code",
      "source": [
        "c = comb(15, 3)\n",
        "print(f'Total combinations: {c}')"
      ],
      "metadata": {
        "colab": {
          "base_uri": "https://localhost:8080/"
        },
        "id": "8Xi4bRw9oooT",
        "outputId": "af62d2f4-abcc-41cf-dbf3-5dbaadc66560"
      },
      "execution_count": 52,
      "outputs": [
        {
          "output_type": "stream",
          "name": "stdout",
          "text": [
            "Total combinations: 455\n"
          ]
        }
      ]
    },
    {
      "cell_type": "markdown",
      "source": [
        "Вероятность достать все 3 окрашенные детали:"
      ],
      "metadata": {
        "id": "zmz8-PZkpykw"
      }
    },
    {
      "cell_type": "code",
      "source": [
        "print(f'Prob: {c1 / c}')"
      ],
      "metadata": {
        "colab": {
          "base_uri": "https://localhost:8080/"
        },
        "id": "WmE7_zDCpwwk",
        "outputId": "01386e06-d690-4617-eb97-b1877716b0a4"
      },
      "execution_count": 54,
      "outputs": [
        {
          "output_type": "stream",
          "name": "stdout",
          "text": [
            "Prob: 0.18461538461538463\n"
          ]
        }
      ]
    },
    {
      "cell_type": "markdown",
      "source": [
        "#4. В лотерее 100 билетов. Из них 2 выигрышных. Какова вероятность того, что 2 приобретенных билета окажутся выигрышными?"
      ],
      "metadata": {
        "id": "U7c54Lp3qVaA"
      }
    },
    {
      "cell_type": "markdown",
      "source": [
        "Самый простой способ: $P=\\frac{2}{100}*\\frac{1}{99}=0.0002$"
      ],
      "metadata": {
        "id": "ckz1PJ0vqrLv"
      }
    },
    {
      "cell_type": "code",
      "source": [
        "2/100*1/99"
      ],
      "metadata": {
        "colab": {
          "base_uri": "https://localhost:8080/"
        },
        "id": "AojHyg2rqbnC",
        "outputId": "f327c8a1-3350-4e8d-9a3e-fe84e3df9bb5"
      },
      "execution_count": 56,
      "outputs": [
        {
          "output_type": "execute_result",
          "data": {
            "text/plain": [
              "0.00020202020202020202"
            ]
          },
          "metadata": {},
          "execution_count": 56
        }
      ]
    }
  ]
}